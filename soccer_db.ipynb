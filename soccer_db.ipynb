{
  "nbformat": 4,
  "nbformat_minor": 0,
  "metadata": {
    "colab": {
      "name": "soccer_db.ipynb",
      "version": "0.3.2",
      "provenance": [],
      "collapsed_sections": [],
      "include_colab_link": true
    },
    "kernelspec": {
      "name": "python3",
      "display_name": "Python 3"
    }
  },
  "cells": [
    {
      "cell_type": "markdown",
      "metadata": {
        "id": "view-in-github",
        "colab_type": "text"
      },
      "source": [
        "<a href=\"https://colab.research.google.com/github/DarioBaltierra/CalculadoraEntrega1/blob/master/soccer_db.ipynb\" target=\"_parent\"><img src=\"https://colab.research.google.com/assets/colab-badge.svg\" alt=\"Open In Colab\"/></a>"
      ]
    },
    {
      "metadata": {
        "id": "5S-A6RJTDQSx",
        "colab_type": "code",
        "colab": {}
      },
      "cell_type": "code",
      "source": [
        "import pandas as pd\n",
        "df = pd.read_csv('https://raw.githubusercontent.com/leonpalafox/ticlase/master/Resources/Datasets/soccerleagues/spi_matches.csv')\n",
        "df_gdp = pd.read_csv('https://raw.githubusercontent.com/leonpalafox/ticlase/master/Resources/Datasets/soccerleagues/UN_Gdp_data.csv')\n",
        "df_fact = pd.read_csv('https://raw.githubusercontent.com/leonpalafox/ticlase/master/Resources/Datasets/soccerleagues/country_profile_variables.csv')\n"
      ],
      "execution_count": 0,
      "outputs": []
    },
    {
      "metadata": {
        "id": "4O7t6hEoEJM7",
        "colab_type": "text"
      },
      "cell_type": "markdown",
      "source": [
        "## Task 1\n",
        "###Crear una tabla donde tengan a que pais corresponde cada liga\n",
        "\n",
        "\n",
        "---\n",
        "\n",
        "data = {'row_1': [3, 2, 1, 0], 'row_2': ['a', 'b', 'c', 'd']}\n",
        "\n",
        "df = pd.DataFrame.from_dict(data, orient='index')"
      ]
    },
    {
      "metadata": {
        "id": "2__0HSn5Eptj",
        "colab_type": "text"
      },
      "cell_type": "markdown",
      "source": [
        "##Task 2\n",
        "### Poner una columna adicional donde diga de que pais es el juego\n",
        "\n",
        "\n",
        "---\n",
        "\n",
        "df1.merge(df2, left_on='lkey', right_on='rkey')"
      ]
    },
    {
      "metadata": {
        "id": "HoJ0sHH5FOE5",
        "colab_type": "text"
      },
      "cell_type": "markdown",
      "source": [
        "###Task 3\n",
        "##De la tabla de juegos, extraer el año y colocarlo en una columna nueva\n",
        "df['date'] = pd.to_datetime(df['date'])\n",
        "\n",
        "df['year'], df['month'] = df['date'].dt.year, df['date'].dt.month\n"
      ]
    }
  ]
}